{
 "cells": [
  {
   "cell_type": "code",
   "execution_count": 2,
   "id": "bdfe8376",
   "metadata": {},
   "outputs": [],
   "source": [
    "import cv2 as cv2\n",
    "import numpy as np\n",
    "from matplotlib import pyplot as plt"
   ]
  },
  {
   "cell_type": "code",
   "execution_count": 3,
   "id": "ca9f0acf",
   "metadata": {},
   "outputs": [],
   "source": [
    "img=cv2.imread('./images/flemingo.jpg')"
   ]
  },
  {
   "cell_type": "code",
   "execution_count": 4,
   "id": "487525b9",
   "metadata": {},
   "outputs": [],
   "source": [
    "#average blur\n",
    "\n",
    "blur_img3=cv2.blur(img,(3,3))\n",
    "\n",
    "cv2.imshow('average blur',blur_img3)\n",
    "cv2.waitKey(0)\n",
    "cv2.destroyAllWindows()"
   ]
  },
  {
   "cell_type": "code",
   "execution_count": 5,
   "id": "30da5f6f",
   "metadata": {},
   "outputs": [],
   "source": [
    "#gaussian blur\n",
    "\n",
    "blur_gauss_img3=cv2.GaussianBlur(img,(3,3),0)\n",
    "\n",
    "cv2.imshow('gaussian blur',blur_gauss_img3)\n",
    "cv2.waitKey(0)\n",
    "cv2.destroyAllWindows()"
   ]
  },
  {
   "cell_type": "code",
   "execution_count": 6,
   "id": "5dfad2cb",
   "metadata": {},
   "outputs": [],
   "source": [
    "#median blur(salt-pepper noise reduction)\n",
    "\n",
    "blur_median_img3=cv2.medianBlur(img,3)\n",
    "\n",
    "cv2.imshow('median blur',blur_median_img3)\n",
    "cv2.waitKey(0)\n",
    "cv2.destroyAllWindows()"
   ]
  }
 ],
 "metadata": {
  "interpreter": {
   "hash": "ad2bdc8ecc057115af97d19610ffacc2b4e99fae6737bb82f5d7fb13d2f2c186"
  },
  "kernelspec": {
   "display_name": "Python 3.9.7 ('base')",
   "language": "python",
   "name": "python3"
  },
  "language_info": {
   "codemirror_mode": {
    "name": "ipython",
    "version": 3
   },
   "file_extension": ".py",
   "mimetype": "text/x-python",
   "name": "python",
   "nbconvert_exporter": "python",
   "pygments_lexer": "ipython3",
   "version": "3.9.7"
  }
 },
 "nbformat": 4,
 "nbformat_minor": 5
}
